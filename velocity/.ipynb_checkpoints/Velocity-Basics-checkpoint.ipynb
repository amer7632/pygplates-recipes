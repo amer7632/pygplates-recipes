{
 "cells": [
  {
   "cell_type": "markdown",
   "metadata": {},
   "source": [
    "# Plate Velocity Basics\n",
    "\n",
    "This notebook goes through a series of examples for how to use pygplates to work with plate velocities.\n",
    "\n",
    "The basic requirements to calculate any plate velocities are:\n",
    "  - a rotation file containing Euler poles defining plate motions\n",
    "  - the plateid(s) that define the moving plate (and the frame of reference)\n",
    "  - a time range over which to determine the velocity\n",
    "  - the geographic location of the point where we evaluate velocity\n",
    "  \n",
    "### Example #1\n",
    "\n",
    "The first example illustrates these concepts:\n",
    "  - First, we load the rotation model from the Seton et al (2012) dataset\n",
    "  - Second, we get the stage rotation that describes how the plate 101 (North America) is moving over the time period between 11 Ma and 10 Ma. [Note that since don't specify which plate North America is moving relative to, this calculation will default to getting the velcocity relative to the absolute reference frame in the rotation file]\n"
   ]
  },
  {
   "cell_type": "code",
   "execution_count": null,
   "metadata": {
    "collapsed": true
   },
   "outputs": [],
   "source": [
    "import pygplates\n",
    "import numpy as np\n",
    "\n",
    "rotation_filename = '../Data/Seton_etal_ESR2012_2012.1.rot'\n",
    "\n",
    "rotation_model = pygplates.RotationModel(rotation_filename)\n",
    "\n",
    "timeFrom = 11.\n",
    "timeTo = 10.\n",
    "MovingPlate = 101\n",
    "\n",
    "# Get the rotation from 11Ma to 10Ma, and the feature's reconstruction plate ID.\n",
    "equivalent_stage_rotation = rotation_model.get_rotation(\n",
    "    timeTo, MovingPlate, timeFrom)\n"
   ]
  },
  {
   "cell_type": "markdown",
   "metadata": {},
   "source": [
    "- Having determined the stage rotation, define a specific point where we are going to evaluate the velocity "
   ]
  },
  {
   "cell_type": "code",
   "execution_count": 11,
   "metadata": {
    "collapsed": false
   },
   "outputs": [
    {
     "name": "stdout",
     "output_type": "stream",
     "text": [
      "[<pygplates.Vector3D object at 0x11442c848>]\n",
      "[(10.129780064740592, 5.87816230240699, 4.383996562727298e-17)]\n"
     ]
    }
   ],
   "source": [
    "velocity_point = pygplates.PointOnSphere((20,-60))\n",
    "\n",
    "# Calculate a velocity for each reconstructed point over the 1My time interval.\n",
    "velocity_vector = pygplates.calculate_velocities(\n",
    "    velocity_point,\n",
    "    equivalent_stage_rotation,\n",
    "    1,\n",
    "    pygplates.VelocityUnits.cms_per_yr)\n",
    "\n",
    "velocity_magnitude_azimuth = pygplates.LocalCartesian.convert_from_geocentric_to_magnitude_azimuth_inclination(\n",
    "                        velocity_point,\n",
    "                        velocity_vector)\n",
    "\n",
    "print velocity_vector\n",
    "print velocity_magnitude_azimuth\n"
   ]
  },
  {
   "cell_type": "markdown",
   "metadata": {},
   "source": [
    "Each entry in the list 'velocity_magnitude_azimuth' contains 3 values, where the first value is the magnitude, and the second is the azimuth:"
   ]
  },
  {
   "cell_type": "code",
   "execution_count": 12,
   "metadata": {
    "collapsed": false
   },
   "outputs": [
    {
     "name": "stdout",
     "output_type": "stream",
     "text": [
      "Velocity: magnitude = 10.1298 cm/yr, azimuth = 336.7939\n"
     ]
    }
   ],
   "source": [
    "print 'Velocity: magnitude = %0.4f cm/yr, azimuth = %0.4f' % \\\n",
    "            (velocity_magnitude_azimuth[0][0],np.degrees(velocity_magnitude_azimuth[0][1]))"
   ]
  },
  {
   "cell_type": "markdown",
   "metadata": {},
   "source": [
    "### Example #2\n",
    "\n",
    "The next cell is follows the same approach, but evaluates the velocity at a series of times. In this case, the point is assigned a plateid of 801 (Australia) and this point is then reconstructed relative to 802 (Antarctica), so that we can get the velocity of the same point on Australia\n",
    "\n",
    "Note also that this second example also defines a 'delta' time, which controls the length of time that the cmputed velocity is averaged over (ie here the velocity is computed based on the motion for 0-10 Ma, 10-20 Ma, etc,  because the delta time is 10 Myr, you can choose this value). "
   ]
  },
  {
   "cell_type": "code",
   "execution_count": 14,
   "metadata": {
    "collapsed": false
   },
   "outputs": [
    {
     "name": "stdout",
     "output_type": "stream",
     "text": [
      "Time = 0.00 Ma\n",
      "Reconstructed Point Lat, Long = -30.0, 110.0\n",
      "Velocity: magnitude = 6.6331 cm/yr, azimuth = 19.4978\n",
      "Time = 10.00 Ma\n",
      "Reconstructed Point Lat, Long = -34.7034363088, 106.320362839\n",
      "Velocity: magnitude = 6.5950 cm/yr, azimuth = 22.1596\n",
      "Time = 20.00 Ma\n",
      "Reconstructed Point Lat, Long = -39.7199742518, 102.619170784\n",
      "Velocity: magnitude = 7.1452 cm/yr, azimuth = 22.6106\n",
      "Time = 30.00 Ma\n",
      "Reconstructed Point Lat, Long = -45.4420121063, 98.1338664523\n",
      "Velocity: magnitude = 5.9355 cm/yr, azimuth = 30.5566\n",
      "Time = 40.00 Ma\n",
      "Reconstructed Point Lat, Long = -49.7851226802, 92.5918766476\n",
      "Velocity: magnitude = 1.7138 cm/yr, azimuth = 7.3122\n",
      "Time = 50.00 Ma\n",
      "Reconstructed Point Lat, Long = -50.502462132, 92.3950824325\n",
      "Velocity: magnitude = 0.8073 cm/yr, azimuth = 304.3038\n",
      "Time = 60.00 Ma\n",
      "Reconstructed Point Lat, Long = -55.2654778195, 94.7532443839\n",
      "Velocity: magnitude = 0.7851 cm/yr, azimuth = 300.9687\n",
      "Time = 70.00 Ma\n",
      "Reconstructed Point Lat, Long = -55.5242783688, 93.4581634027\n",
      "Velocity: magnitude = 0.6571 cm/yr, azimuth = 48.4585\n",
      "Time = 80.00 Ma\n",
      "Reconstructed Point Lat, Long = -54.4548499507, 89.7341286322\n",
      "Velocity: magnitude = 0.5823 cm/yr, azimuth = 286.1135\n",
      "Time = 90.00 Ma\n",
      "Reconstructed Point Lat, Long = -51.9668550706, 88.0482394595\n",
      "Velocity: magnitude = 1.6965 cm/yr, azimuth = 305.2049\n",
      "Time = 100.00 Ma\n",
      "Reconstructed Point Lat, Long = -51.6700501, 86.4619496709\n",
      "Velocity: magnitude = 0.7243 cm/yr, azimuth = 284.6058\n"
     ]
    }
   ],
   "source": [
    "# Create for each point we want to reconstruct \n",
    "points = []\n",
    "points.append((-30.,110.,801))\n",
    "\n",
    "point_features = []\n",
    "for lat, lon, plate_id in points:\n",
    "    point_feature = pygplates.Feature()\n",
    "    point_feature.set_geometry(pygplates.PointOnSphere(lat, lon))\n",
    "    point_feature.set_reconstruction_plate_id(plate_id)\n",
    "    point_features.append(point_feature)\n",
    "\n",
    "max_time = 100.\n",
    "delta_time = 10.\n",
    "\n",
    "fixed_plate = 802\n",
    "\n",
    "for time in np.arange(0,max_time+1.,delta_time):    \n",
    "    # Reconstruct the point features.\n",
    "    reconstructed_feature_geometries = []\n",
    "    pygplates.reconstruct(point_features, rotation_model, reconstructed_feature_geometries, time)\n",
    "    \n",
    "    # Get the rotation from 'time+delta' to 'time', and the feature's reconstruction plate ID.\n",
    "    equivalent_stage_rotation = rotation_model.get_rotation(\n",
    "        time, plate_id, time+delta_time)\n",
    "    \n",
    "    for reconstructed_feature_geometry in reconstructed_feature_geometries:      \n",
    "        # Calculate a velocity for each reconstructed point over the delta time interval.\n",
    "        velocity_vector = pygplates.calculate_velocities(\n",
    "            reconstructed_feature_geometry.get_reconstructed_geometry(),\n",
    "            equivalent_stage_rotation,\n",
    "            delta_time,\n",
    "            pygplates.VelocityUnits.cms_per_yr)\n",
    "\n",
    "        velocity_magnitude_azimuth = pygplates.LocalCartesian.convert_from_geocentric_to_magnitude_azimuth_inclination(\n",
    "                                reconstructed_feature_geometry.get_reconstructed_geometry(),\n",
    "                                velocity_vector)\n",
    "    \n",
    "        print 'Time = %0.2f Ma' % time\n",
    "        print 'Reconstructed Point Lat, Long = %s, %s' % \\\n",
    "            reconstructed_feature_geometry.get_reconstructed_geometry().to_lat_lon()\n",
    "        print 'Velocity: magnitude = %0.4f cm/yr, azimuth = %0.4f' % \\\n",
    "            (velocity_magnitude_azimuth[0][0],np.degrees(velocity_magnitude_azimuth[0][1]))\n"
   ]
  },
  {
   "cell_type": "code",
   "execution_count": null,
   "metadata": {
    "collapsed": true
   },
   "outputs": [],
   "source": []
  }
 ],
 "metadata": {
  "kernelspec": {
   "display_name": "Python 2",
   "language": "python",
   "name": "python2"
  },
  "language_info": {
   "codemirror_mode": {
    "name": "ipython",
    "version": 2
   },
   "file_extension": ".py",
   "mimetype": "text/x-python",
   "name": "python",
   "nbconvert_exporter": "python",
   "pygments_lexer": "ipython2",
   "version": "2.7.12"
  }
 },
 "nbformat": 4,
 "nbformat_minor": 0
}
