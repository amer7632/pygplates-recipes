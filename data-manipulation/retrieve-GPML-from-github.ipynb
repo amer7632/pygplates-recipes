{
 "cells": [
  {
   "cell_type": "markdown",
   "metadata": {},
   "source": [
    "# Load a feature collection from web\n",
    "\n",
    "Examples showing code to load a feature collection from a remote source - but stored in a file that is readable by GPlates - directly into a python script. \n",
    "\n",
    "[Note however that a known bug in urllib can lead to ftp transfers failing intermittently (they often work the first time, but then give an error if you try to run the same code again)]"
   ]
  },
  {
   "cell_type": "code",
   "execution_count": 1,
   "metadata": {
    "collapsed": true
   },
   "outputs": [],
   "source": [
    "import urllib\n",
    "import pygplates\n",
    "import os\n",
    "\n",
    "def pygplates_retrieve_feature_collection(url):\n",
    "    \n",
    "    filename,ext = os.path.splitext(url)\n",
    "    temporary_file = 'tmp%s' % ext \n",
    "    \n",
    "    urllib.urlretrieve(url,temporary_file)\n",
    "    \n",
    "    feature_collection = pygplates.FeatureCollection(temporary_file)\n",
    "    \n",
    "    return feature_collection\n",
    "\n",
    "#\n",
    "# NOTE - for this to work with files from github, you need to \n",
    "# 1. use a 'raw.github.com' address instead of just 'github.com'\n",
    "# 2. remove the 'blob' from the address, if present\n",
    "# an alternative address would contain ?raw=true at the end, making it harder to strip the file extension off\n",
    "# (which is a requirement to load the feature collection)"
   ]
  },
  {
   "cell_type": "code",
   "execution_count": 2,
   "metadata": {
    "collapsed": false
   },
   "outputs": [
    {
     "name": "stdout",
     "output_type": "stream",
     "text": [
      "Heine et al., Golonka Paleoshorelines 12.8 Ma -1.8 Ma\n",
      "Heine et al., Golonka Paleoshorelines 22 Ma -12.8 Ma\n",
      "Heine et al., Golonka Paleoshorelines 30.2 Ma -22 Ma\n",
      "Heine et al., Golonka Paleoshorelines 36.6 Ma -30.2 Ma\n",
      "Heine et al., Golonka Paleoshorelines 48.5 Ma -36.6 Ma\n",
      "Heine et al., Golonka Paleoshorelines 58.4 Ma -48.6 Ma\n",
      "Heine et al., Golonka Paleoshorelines 83.8 Ma -58.4 Ma\n",
      "Heine et al., Golonka Paleoshorelines 98 Ma -83.8 Ma\n",
      "Heine et al., Golonka Paleoshorelines 123 Ma -98 Ma\n",
      "Heine et al., Golonka Paleoshorelines 139 Ma -123 Ma\n",
      "Heine et al., Golonka Paleoshorelines 147.8 Ma -139 Ma\n"
     ]
    }
   ],
   "source": [
    "url = 'https://raw.github.com/chhei/Heine_AJES_15_GlobalPaleoshorelines/master/Global_Paleoshorelines_Golonka.gpml'\n",
    "feature_collection1 = pygplates_retrieve_feature_collection(url)\n",
    "\n",
    "for feature in feature_collection1:\n",
    "    print feature.get_name()\n",
    "    \n"
   ]
  },
  {
   "cell_type": "code",
   "execution_count": 6,
   "metadata": {
    "collapsed": false
   },
   "outputs": [
    {
     "name": "stdout",
     "output_type": "stream",
     "text": [
      "Polygon for Astrid_Ridge, eruption age around 150 Ma\n",
      "Polygon for Bermuda_Rise, eruption age around 47 Ma\n",
      "Polygon for Cabo_Verde, eruption age around 22 Ma\n",
      "Polygon for Cabo_Verde, eruption age around 22 Ma\n",
      "Polygon for Caribbean_Flood_Basalts, eruption age around 88 Ma\n",
      "Polygon for Ceara_Rise, eruption age around 80 Ma\n",
      "Polygon for Chagos-Laccadive, eruption age around 49 Ma\n",
      "Polygon for Cocos_Ridge, eruption age around 15 Ma\n",
      "Polygon for Conrad_Rise, eruption age around 88 Ma\n",
      "Polygon for Crozet_Rise, eruption age around 70 Ma\n",
      "Polygon for Cuvier_Plateau, eruption age around 130 Ma\n",
      "Polygon for Cuvier_Plateau, eruption age around 130 Ma\n",
      "Polygon for Cuvier_Plateau, eruption age around 130 Ma\n",
      "Polygon for Del_Cano_Rise, eruption age around 61 Ma\n",
      "Polygon for Eauripik_Rise, eruption age around 25 Ma\n",
      "Polygon for Mariana_Basin, eruption age around 120 Ma\n",
      "Polygon for Islas_Orcadas_Rise, eruption age around 62 Ma\n",
      "Polygon for Galapagos-Carnegie, eruption age around 10 Ma\n",
      "Polygon for Galapagos-Carnegie, eruption age around 10 Ma\n",
      "Polygon for Hess_Rise, eruption age around 99 Ma\n",
      "Polygon for Hikurangi_Plateau, eruption age around 120 Ma\n",
      "Polygon for Madagascar_Ridge, eruption age around 88 Ma\n",
      "Polygon for Madeira_Rise, eruption age around 95 Ma\n",
      "Polygon for Madeira_Rise, eruption age around 95 Ma\n",
      "Polygon for Madeira_Rise, eruption age around 95 Ma\n",
      "Polygon for Magellan_Rise, eruption age around 135 Ma\n",
      "Polygon for Pigafetta_Basin, eruption age around 120 Ma\n",
      "Polygon for ManihikiI, eruption age around 120 Ma\n",
      "Polygon for Maud_Rise, eruption age around 73 Ma\n",
      "Polygon for Nazca_Ridge, eruption age around 26 Ma\n",
      "Polygon for Northeast_Georgia_Rise, eruption age around 101 Ma\n",
      "Polygon for Northwest_Georgia_Rise, eruption age around 101 Ma\n",
      "Polygon for Northwest_Hawaiian_Ridge, eruption age around 90 Ma\n",
      "Polygon for Northwest_Hawaiian_Ridge, eruption age around 90 Ma\n",
      "Polygon for Northwest_Hawaiian_Ridge, eruption age around 90 Ma\n",
      "Polygon for Roo_Ris, eruption age around 130 Ma\n",
      "Polygon for Sala_y_Gomez_Ridge, eruption age around 8 Ma\n",
      "Polygon for Sala_y_Gomez_Ridge, eruption age around 8 Ma\n",
      "Polygon for Sala_y_Gomez_Ridge, eruption age around 5 Ma\n",
      "Polygon for Sala_y_Gomez_Ridge, eruption age around 5 Ma\n",
      "Polygon for Sala_y_Gomez_Ridge, eruption age around 5 Ma\n",
      "Polygon for Shatsky_Rise, eruption age around 147 Ma\n",
      "Polygon for Sierra_Leone_Rise, eruption age around 73 Ma\n",
      "Polygon for Vitoria-Trinidade_Seamounts, eruption age around 85 Ma\n",
      "Polygon for CAMP, eruption age around 200 Ma\n",
      "Polygon for Walvis_Ridge, eruption age around 80 Ma\n",
      "Polygon for Walvis_Ridge, eruption age around 80 Ma\n",
      "Polygon for Walvis_Ridge, eruption age around 60 Ma\n",
      "Polygon for Walvis_Ridge, eruption age around 60 Ma\n",
      "Polygon for Walvis_Ridge, eruption age around 60 Ma\n",
      "Polygon for Walvis_Ridge, eruption age around 60 Ma\n",
      "Polygon for Explorer_Wedge, eruption age around 152 Ma\n",
      "Polygon for Agulhas_Plateau, eruption age around 100 Ma\n",
      "Polygon for Agulhas_Plateau, eruption age around 100 Ma\n",
      "Polygon for Mozambique_Ridge, eruption age around 130 Ma\n",
      "Polygon for Ninetyeast_Ridge, eruption age around 50 Ma\n",
      "Polygon for Ninetyeast_Ridge, eruption age around 56 Ma\n",
      "Polygon for Ninetyeast_Ridge, eruption age around 60 Ma\n",
      "Polygon for Broken_Ridge, eruption age around 95 Ma\n",
      "Polygon for Ontong_Java_Plateau, eruption age around 121 Ma\n",
      "Polygon for Chagos-Laccadive, eruption age around 57 Ma\n",
      "Polygon for Iceland, eruption age around 26 Ma\n",
      "Polygon for Northern_Kerguelen, eruption age around 40 Ma\n",
      "Polygon for Central_Kerguelen, eruption age around 100 Ma\n",
      "Polygon for Southern_Kerguelen, eruption age around 110 Ma\n",
      "Polygon for Nauru_Basin, eruption age around 111 Ma\n",
      "Polygon for Ninetyeast_Ridge, eruption age around 37 Ma\n",
      "Polygon for Rio_Grande_Rise, eruption age around 80 Ma\n",
      "Polygon for SATL_Margin_SAm, eruption age around 132 Ma\n",
      "Polygon for SATL_Margin_Africa, eruption age around 132 Ma\n",
      "Polygon for Walvis_Ridge, eruption age around 90 Ma\n",
      "Polygon for Yermak_Plateau, eruption age around 40 Ma\n",
      "Polygon for Seychelles, eruption age around 31 Ma\n",
      "Polygon for Seychelles, eruption age around 64 Ma\n",
      "Polygon for Seychelles, eruption age around 32 Ma\n",
      "Polygon for Chagos-Laccadive, eruption age around 53 Ma\n",
      "Polygon for Chagos-Laccadive, eruption age around 60 Ma\n",
      "Polygon for Walvis_Ridge, eruption age around 70 Ma\n",
      "Polygon for Rio_Grande_Rise, eruption age around 71 Ma\n",
      "Polygon for Rio_Grande_Rise, eruption age around 68 Ma\n",
      "Polygon for Rio_Grande_Rise, eruption age around 91 Ma\n",
      "Polygon for Rio_Grande_Rise, eruption age around 85 Ma\n",
      "Polygon for Sala_y_Gomez_Ridge, eruption age around 12 Ma\n",
      "Polygon for Jan_Mayen_Ridge, eruption age around 55 Ma\n",
      "Polygon for Newfoundland_Ridge, eruption age around 100 Ma\n",
      "Polygon for Gunnerus_Ridge, eruption age around 120 Ma\n",
      "Polygon for Meteor_Rise, eruption age around 62 Ma\n",
      "Polygon for Shona_Ridge, eruption age around 48 Ma\n",
      "Polygon for Alpha_Ridge, eruption age around 82 Ma\n",
      "Polygon for Alpha_Ridge, eruption age around 82 Ma\n",
      "Polygon for Mendelyev_Ridge, eruption age around 86 Ma\n",
      "Polygon for Mendelyev_Ridge, eruption age around 86 Ma\n"
     ]
    }
   ],
   "source": [
    "url = 'https://raw.github.com/GPlates/pygplates-tutorials/master/Data/LIPs_2014.gpmlz'\n",
    "feature_collection2 = pygplates_retrieve_feature_collection(url)\n",
    "\n",
    "for feature in feature_collection2:\n",
    "    print 'Polygon for %s, eruption age around %d Ma' % (feature.get_name(),feature.get_valid_time()[0])\n",
    "    \n"
   ]
  },
  {
   "cell_type": "code",
   "execution_count": null,
   "metadata": {
    "collapsed": true
   },
   "outputs": [],
   "source": []
  }
 ],
 "metadata": {
  "kernelspec": {
   "display_name": "Python 2",
   "language": "python",
   "name": "python2"
  },
  "language_info": {
   "codemirror_mode": {
    "name": "ipython",
    "version": 2
   },
   "file_extension": ".py",
   "mimetype": "text/x-python",
   "name": "python",
   "nbconvert_exporter": "python",
   "pygments_lexer": "ipython2",
   "version": "2.7.12"
  }
 },
 "nbformat": 4,
 "nbformat_minor": 0
}
