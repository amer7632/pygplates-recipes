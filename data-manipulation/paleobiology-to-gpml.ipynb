{
 "cells": [
  {
   "cell_type": "markdown",
   "metadata": {},
   "source": [
    "# Making a GPlates feature collection from PBDB\n",
    "\n",
    "The paleobiology database is a wonderful online resource containing a rich set of information on Earth's fossil record. The main webiste is here:  \n",
    "https://paleobiodb.org/#/\n",
    "\n",
    "This notebook shows how to relatively simply , use this link to go directly to the page where you can formulate a specific http request that selects data based on your chosen criteria:  \n",
    "https://paleobiodb.org/classic/displayDownloadGenerator\n",
    "\n",
    "Requirements:  \n",
    "The process below requires a python module called 'requests', which is freely available and can be installed using pip for example. \n",
    "\n",
    "\n",
    "### Part 1 - Get the Fossil Data"
   ]
  },
  {
   "cell_type": "code",
   "execution_count": 6,
   "metadata": {
    "collapsed": false
   },
   "outputs": [
    {
     "data": {
      "text/plain": [
       "Index([u'occurrence_no', u'record_type', u'reid_no', u'flags',\n",
       "       u'collection_no', u'identified_name', u'identified_rank',\n",
       "       u'identified_no', u'difference', u'accepted_name', u'accepted_rank',\n",
       "       u'accepted_no', u'early_interval', u'late_interval', u'max_ma',\n",
       "       u'min_ma', u'reference_no', u'lng', u'lat'],\n",
       "      dtype='object')"
      ]
     },
     "execution_count": 6,
     "metadata": {},
     "output_type": "execute_result"
    }
   ],
   "source": [
    "import requests\n",
    "from io import StringIO\n",
    "import pandas as pd\n",
    "import pygplates\n",
    "\n",
    "# this is the string that defines the request - you can get this string from the pbdb download generator\n",
    "# listed above\n",
    "# note.1, assumes that you select 'csv' as your output format\n",
    "# note.2, the download generator will also control which fields are available in the output. This\n",
    "#       example is fairly minimal, many more fields are available\n",
    "url = 'https://paleobiodb.org/data1.2/occs/list.csv?base_name=Bryozoa&max_ma=200&min_ma=0&show=coords'\n",
    "\n",
    "# send the request to the server - the entire output is contained within the object 'r'\n",
    "r = requests.get(url)\n",
    "\n",
    "# uncomment this line to see the entire output message and data\n",
    "#print r.text\n",
    "\n",
    "# this line reads the text part of the output (in this case, csv-formatted text) into a pandas dataframe.\n",
    "# note that the 'StringIO' is necessary because pandas is used to reading files - r.text is not a file,\n",
    "# but 'StringIO(r.text)' makes the data readable by pandas \n",
    "df = pd.read_csv(StringIO(r.text))\n",
    "\n",
    "# print the columns in the data table to see what we have\n",
    "df.columns\n"
   ]
  },
  {
   "cell_type": "markdown",
   "metadata": {},
   "source": [
    "### Part 2 - Generate a GPlates Feature Collection"
   ]
  },
  {
   "cell_type": "code",
   "execution_count": 7,
   "metadata": {
    "collapsed": true
   },
   "outputs": [],
   "source": [
    "# put the points into a feature collection, using Lat,Long coordinates from dataframe\n",
    "point_features = []\n",
    "for index,row in df.iterrows():\n",
    "    point = pygplates.PointOnSphere(float(row.lat),float(row.lng))\n",
    "    point_feature = pygplates.Feature()\n",
    "    point_feature.set_geometry(point)\n",
    "    point_feature.set_valid_time(row.max_ma,row.min_ma)\n",
    "    point_features.append(point_feature)\n",
    "\n",
    "    "
   ]
  },
  {
   "cell_type": "markdown",
   "metadata": {},
   "source": [
    "### Part 3 (optional) - assign plate ids based on an existing reconstruction model"
   ]
  },
  {
   "cell_type": "code",
   "execution_count": 8,
   "metadata": {
    "collapsed": false
   },
   "outputs": [],
   "source": [
    "# static polygons are the 'partitioning features'\n",
    "static_polygons = pygplates.FeatureCollection('../Data/Seton_etal_ESR2012_StaticPolygons_2012.1.gpmlz')\n",
    "\n",
    "# The partition_into_plates function requires a rotation model, since sometimes this would be\n",
    "# necessary even at present day (for example to resolve topological polygons)\n",
    "rotation_model=pygplates.RotationModel('../Data/Seton_etal_ESR2012_2012.1.rot')\n",
    "    \n",
    "# The partition points function can then be used as before\n",
    "partitioned_point_features = pygplates.partition_into_plates(static_polygons,\n",
    "                                                       rotation_model,\n",
    "                                                       point_features)\n"
   ]
  },
  {
   "cell_type": "markdown",
   "metadata": {},
   "source": [
    "### Part 4 - Write the features to a file"
   ]
  },
  {
   "cell_type": "code",
   "execution_count": 12,
   "metadata": {
    "collapsed": false
   },
   "outputs": [],
   "source": [
    "output_features = pygplates.FeatureCollection(partitioned_point_features)\n",
    "\n",
    "# Note that the output format could be shp, gmt, gpml or gpmlz - the extension controls the format\n",
    "output_features.write('FossilData.gpmlz')\n"
   ]
  },
  {
   "cell_type": "code",
   "execution_count": null,
   "metadata": {
    "collapsed": true
   },
   "outputs": [],
   "source": []
  }
 ],
 "metadata": {
  "anaconda-cloud": {},
  "kernelspec": {
   "display_name": "Python [default]",
   "language": "python",
   "name": "python2"
  },
  "language_info": {
   "codemirror_mode": {
    "name": "ipython",
    "version": 2
   },
   "file_extension": ".py",
   "mimetype": "text/x-python",
   "name": "python",
   "nbconvert_exporter": "python",
   "pygments_lexer": "ipython2",
   "version": "2.7.13"
  }
 },
 "nbformat": 4,
 "nbformat_minor": 0
}
