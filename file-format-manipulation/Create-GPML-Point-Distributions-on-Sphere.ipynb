{
 "cells": [
  {
   "cell_type": "markdown",
   "metadata": {},
   "source": [
    "# Create point distributions on a sphere\n",
    "\n",
    "A couple of example to create point distributions on a sphere\n",
    "\n",
    "### Example #1 Points on a sphere using _healpy_\n",
    "HEALPix is an acronym for Hierarchical Equal Area isoLatitude Pixelation of a sphere. The code below makes use of the healpy python module, available here:  \n",
    "https://healpy.readthedocs.io/en/latest/  \n",
    "to generate a set of evenly distributed points across the sphere.\n",
    "\n",
    "The density of the points is set by the nSide parameter.\n",
    "\n",
    "The resulting feature is written to a gpmlz file - loading this file into GPlates is the easiest way to see what the distribution looks like."
   ]
  },
  {
   "cell_type": "code",
   "execution_count": 8,
   "metadata": {
    "collapsed": false
   },
   "outputs": [],
   "source": [
    "import pygplates\n",
    "import healpy as hp\n",
    "import numpy as np\n",
    "\n",
    "\n",
    "### Make a multipoint feature\n",
    "### with points evenly distributed points on the sphere\n",
    "nSide = 32\n",
    "othetas,ophis = hp.pix2ang(nSide,np.arange(12*nSide**2))\n",
    "othetas = np.pi/2-othetas\n",
    "ophis[ophis>np.pi] -= np.pi*2\n",
    "\n",
    "lats = np.degrees(othetas) \n",
    "lons = np.degrees(ophis)\n",
    "\n",
    "# The next line exlicitly creates the feature as a 'MeshNode' gpml type, so that\n",
    "# GPlates will display velocities at each point\n",
    "multipoint_feature = pygplates.Feature(\n",
    "    pygplates.FeatureType.create_from_qualified_string('gpml:MeshNode'))\n",
    "multipoint = pygplates.MultiPointOnSphere(zip(lats,lons))  \n",
    "multipoint_feature.set_geometry(multipoint)\n",
    "multipoint_feature.set_name('Equal Area points from healpy')\n",
    "\n",
    "output_feature_collection = pygplates.FeatureCollection(multipoint_feature)\n",
    "    \n",
    "output_feature_collection.write('healpix_mesh_feature.gpmlz')\n",
    "\n"
   ]
  },
  {
   "cell_type": "markdown",
   "metadata": {},
   "source": [
    "### Example #2\n",
    "\n",
    "Generate a multipoint feature with a pseudo-random distribution on the sphere. Again, the result is saved to gpml so you can look at it in GPlates. If the points are too dense, or not dense enough, simply change N and run again."
   ]
  },
  {
   "cell_type": "code",
   "execution_count": 11,
   "metadata": {
    "collapsed": true
   },
   "outputs": [],
   "source": [
    "# N is simply the total number of points that we want to create\n",
    "N = 20000\n",
    "\n",
    "## Marsaglia's method\n",
    "dim = 3\n",
    "\n",
    "norm = np.random.normal\n",
    "normal_deviates = norm(size=(dim, N))\n",
    "\n",
    "radius = np.sqrt((normal_deviates**2).sum(axis=0))\n",
    "points = normal_deviates/radius\n",
    "\n",
    "# The above code returns points on a sphere, but specified in 3D cartesian\n",
    "# space rather than lat/long space. However, we can use these directly to \n",
    "# create the multipoint feature, pygplates will recognise them as x,y,z\n",
    "\n",
    "multipoint_feature = pygplates.Feature()\n",
    "multipoint_feature.set_geometry(pygplates.MultiPointOnSphere((points.T)))\n",
    "multipoint_feature.set_name('Random Points from Marsaglia''s method')\n",
    "\n",
    "multipoint_feature_collection = pygplates.FeatureCollection(multipoint_feature)\n",
    "\n",
    "multipoint_feature_collection.write('pseudo_random_points_feature.gpmlz')\n"
   ]
  },
  {
   "cell_type": "code",
   "execution_count": null,
   "metadata": {
    "collapsed": true
   },
   "outputs": [],
   "source": []
  }
 ],
 "metadata": {
  "kernelspec": {
   "display_name": "Python 2",
   "language": "python",
   "name": "python2"
  },
  "language_info": {
   "codemirror_mode": {
    "name": "ipython",
    "version": 2
   },
   "file_extension": ".py",
   "mimetype": "text/x-python",
   "name": "python",
   "nbconvert_exporter": "python",
   "pygments_lexer": "ipython2",
   "version": "2.7.12"
  }
 },
 "nbformat": 4,
 "nbformat_minor": 0
}
