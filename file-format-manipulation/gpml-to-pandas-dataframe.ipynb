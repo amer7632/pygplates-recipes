{
 "cells": [
  {
   "cell_type": "markdown",
   "metadata": {},
   "source": [
    "TODO - add other gpgim-standard fields (e.g. name, description, valid times, feature id"
   ]
  },
  {
   "cell_type": "code",
   "execution_count": null,
   "metadata": {
    "collapsed": false
   },
   "outputs": [],
   "source": [
    "import pygplates\n",
    "import pandas as pd\n",
    "import numpy as np\n",
    "\n",
    "\n",
    "def feature_collection_to_dataframe(file):\n",
    "    # function to read in any gplates-compatible feature collection and \n",
    "    # place it into a pandas dataframe\n",
    "\n",
    "    feature_collection = pygplates.FeatureCollection(file)\n",
    "\n",
    "    DataFrameTemplate = ['lon','lat']\n",
    "\n",
    "    # Get attribute (other than coordinate) names from first feature\n",
    "    for feature in feature_collection: \n",
    "        for attribute in feature.get_shapefile_attributes():\n",
    "            DataFrameTemplate.append(attribute) \n",
    "        break\n",
    "\n",
    "    res = []\n",
    "    for feature in feature_collection:\n",
    "        tmp = []\n",
    "        tmp.append(feature.get_geometry().to_lat_lon()[1])\n",
    "        tmp.append(feature.get_geometry().to_lat_lon()[0])\n",
    "        for attribute in feature.get_shapefile_attributes():\n",
    "            tmp.append(feature.get_shapefile_attribute(attribute))\n",
    "        res.append(tmp)\n",
    "\n",
    "    df = pd.DataFrame(res,columns=DataFrameTemplate)\n",
    "\n",
    "    return df\n",
    "\n",
    "\n"
   ]
  },
  {
   "cell_type": "code",
   "execution_count": null,
   "metadata": {
    "collapsed": true
   },
   "outputs": [],
   "source": []
  }
 ],
 "metadata": {
  "kernelspec": {
   "display_name": "Python 2",
   "language": "python",
   "name": "python2"
  },
  "language_info": {
   "codemirror_mode": {
    "name": "ipython",
    "version": 2
   },
   "file_extension": ".py",
   "mimetype": "text/x-python",
   "name": "python",
   "nbconvert_exporter": "python",
   "pygments_lexer": "ipython2",
   "version": "2.7.12"
  }
 },
 "nbformat": 4,
 "nbformat_minor": 0
}
