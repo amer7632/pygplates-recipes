{
 "cells": [
  {
   "cell_type": "markdown",
   "metadata": {},
   "source": [
    "# Find nearest feature\n",
    "\n",
    "A very simple example - given a point, and some resolved topological polygons, find the nearest plate boundary to the point and print the name and boundary type"
   ]
  },
  {
   "cell_type": "code",
   "execution_count": 2,
   "metadata": {
    "collapsed": false
   },
   "outputs": [
    {
     "name": "stdout",
     "output_type": "stream",
     "text": [
      "gpml:TerraneBoundary\n",
      "Northwest Africa-Benue Trough\n"
     ]
    }
   ],
   "source": [
    "import pygplates\n",
    "\n",
    "\n",
    "rotation_filename = '../Data/Seton_etal_ESR2012_2012.1.rot'\n",
    "\n",
    "input_topology_filename = '../Data/Seton_etal_ESR2012_PP_2012.1.gpmlz'\n",
    "\n",
    "topology_features = pygplates.FeatureCollection(input_topology_filename)\n",
    "rotation_model = pygplates.RotationModel(rotation_filename)\n",
    "\n",
    "time = 100\n",
    "resolved_topologies = []\n",
    "shared_boundary_sections = []\n",
    "pygplates.resolve_topologies(topology_features, rotation_model, resolved_topologies, time, shared_boundary_sections)\n",
    "\n",
    "\n",
    "# Reconstruct features to 10Ma.\n",
    "reconstruction_time = 10\n",
    "\n",
    "# All features have their distance calculated relative to this point.\n",
    "point_latitude = 0\n",
    "point_longitude = 0\n",
    "point = pygplates.PointOnSphere(point_latitude, point_longitude)\n",
    "\n",
    "\n",
    "# The minimum distance to all features and the nearest feature.\n",
    "min_distance_to_all_features = None\n",
    "nearest_feature = None\n",
    "\n",
    "# Iterate over the shared boundary sections.\n",
    "for shared_boundary_section in shared_boundary_sections:\n",
    "\n",
    "    for shared_sub_segment in shared_boundary_section.get_shared_sub_segments():        \n",
    "        \n",
    "        # Get the minimum distance from point to the current reconstructed geometry.\n",
    "        min_distance_to_feature = pygplates.GeometryOnSphere.distance(\n",
    "                point,\n",
    "                shared_sub_segment.get_geometry(),\n",
    "                min_distance_to_all_features)\n",
    "\n",
    "        # If the current geometry is nearer than all previous geometries then\n",
    "        # its associated feature is the nearest feature so far.\n",
    "        if min_distance_to_feature is not None:\n",
    "            min_distance_to_all_features = min_distance_to_feature\n",
    "            nearest_feature = shared_sub_segment\n",
    "\n",
    "print nearest_feature.get_feature().get_feature_type()\n",
    "print nearest_feature.get_feature().get_name()"
   ]
  },
  {
   "cell_type": "code",
   "execution_count": null,
   "metadata": {
    "collapsed": true
   },
   "outputs": [],
   "source": []
  }
 ],
 "metadata": {
  "kernelspec": {
   "display_name": "Python 2",
   "language": "python",
   "name": "python2"
  },
  "language_info": {
   "codemirror_mode": {
    "name": "ipython",
    "version": 2
   },
   "file_extension": ".py",
   "mimetype": "text/x-python",
   "name": "python",
   "nbconvert_exporter": "python",
   "pygments_lexer": "ipython2",
   "version": "2.7.12"
  }
 },
 "nbformat": 4,
 "nbformat_minor": 0
}
